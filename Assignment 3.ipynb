{
 "cells": [
  {
   "cell_type": "code",
   "execution_count": 4,
   "id": "ceffaf25",
   "metadata": {},
   "outputs": [
    {
     "data": {
      "text/plain": [
       "{'i': 4, 's': 4, 'p': 2, 'M': 1}"
      ]
     },
     "execution_count": 4,
     "metadata": {},
     "output_type": "execute_result"
    }
   ],
   "source": [
    "def most_frequent(string):\n",
    "    d={}\n",
    "    for key in string:\n",
    "        if key not in d:\n",
    "            d[key]=1\n",
    "        else:\n",
    "            d[key]+=1\n",
    "    d=dict(sorted(d.items(),key=lambda key:key[1],reverse=True))\n",
    "    return d\n",
    "most_frequent(\"Mississippi\")"
   ]
  },
  {
   "cell_type": "code",
   "execution_count": null,
   "id": "db360051",
   "metadata": {},
   "outputs": [],
   "source": []
  }
 ],
 "metadata": {
  "kernelspec": {
   "display_name": "Python 3",
   "language": "python",
   "name": "python3"
  },
  "language_info": {
   "codemirror_mode": {
    "name": "ipython",
    "version": 3
   },
   "file_extension": ".py",
   "mimetype": "text/x-python",
   "name": "python",
   "nbconvert_exporter": "python",
   "pygments_lexer": "ipython3",
   "version": "3.8.8"
  }
 },
 "nbformat": 4,
 "nbformat_minor": 5
}
