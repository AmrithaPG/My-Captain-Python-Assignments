{
 "cells": [
  {
   "cell_type": "code",
   "execution_count": 4,
   "id": "1b698c2a",
   "metadata": {},
   "outputs": [
    {
     "name": "stdout",
     "output_type": "stream",
     "text": [
      "Enter student information for student #1 in the following format (Name Age Contact_No E-Mail_ID): Amritha 20 91********** amritha20@gmail.com\n",
      "\n",
      "Entered split up information is \n",
      "Name:Amritha\n",
      "Age:20\n",
      "Contact_Number: 91**********\n",
      "E-Mail_ID: amritha20@gmail.com\n",
      "Is the entered information correct (Yes/No): Yes\n",
      "Enter (Yes/No) if you want to enter information for another student: No\n"
     ]
    }
   ],
   "source": [
    "import csv\n",
    "\n",
    "def write_into_csv(info_list):\n",
    "    with open('student_info.csv','a',newline='') as csv_file:\n",
    "        writer=csv.writer(csv_file)\n",
    "       \n",
    "        if csv_file.tell()==0:\n",
    "            writer.writerow(['Name','Age','Contact Number','E-Mail ID']) \n",
    "        \n",
    "        writer.writerow(info_list)\n",
    "    \n",
    "if __name__=='__main__':    \n",
    "    condition=True\n",
    "    student_num=1\n",
    "\n",
    "    while(condition):\n",
    "    \n",
    "        student_info=input(\"Enter student information for student #{} in the following format (Name Age Contact_No E-Mail_ID): \".format(student_num))\n",
    "       \n",
    "    \n",
    "        student_info_list=student_info.split(\" \")\n",
    "        \n",
    "    \n",
    "        print(\"\\nEntered split up information is \\nName:{}\\nAge:{}\\nContact_Number: {}\\nE-Mail_ID: {}\".format(student_info_list[0],student_info_list[1],student_info_list[2],student_info_list[3]))\n",
    "        \n",
    "        choice_check=input('Is the entered information correct (Yes/No): ')\n",
    "        \n",
    "        if choice_check=='Yes':\n",
    "            write_into_csv(student_info_list)\n",
    "    \n",
    "            condition_check=input(\"Enter (Yes/No) if you want to enter information for another student: \")\n",
    "            if condition_check=='Yes':\n",
    "                condition=True\n",
    "                student_num+=1\n",
    "            elif condition_check==\"No\":\n",
    "                condition=False\n",
    "        else:\n",
    "            print(\"\\nPlease re-enter the values!\")"
   ]
  },
  {
   "cell_type": "code",
   "execution_count": null,
   "id": "55ba4915",
   "metadata": {},
   "outputs": [],
   "source": []
  }
 ],
 "metadata": {
  "kernelspec": {
   "display_name": "Python 3",
   "language": "python",
   "name": "python3"
  },
  "language_info": {
   "codemirror_mode": {
    "name": "ipython",
    "version": 3
   },
   "file_extension": ".py",
   "mimetype": "text/x-python",
   "name": "python",
   "nbconvert_exporter": "python",
   "pygments_lexer": "ipython3",
   "version": "3.8.8"
  }
 },
 "nbformat": 4,
 "nbformat_minor": 5
}
