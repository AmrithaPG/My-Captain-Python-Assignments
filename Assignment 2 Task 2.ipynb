{
 "cells": [
  {
   "cell_type": "code",
   "execution_count": 8,
   "id": "57dc4426",
   "metadata": {},
   "outputs": [
    {
     "name": "stdout",
     "output_type": "stream",
     "text": [
      "Output :   12\n",
      "Output :   5\n",
      "Output :   64\n"
     ]
    }
   ],
   "source": [
    "list = [12,-7,5,64,-14]\n",
    "for i in list :\n",
    "    if (i>0):\n",
    "        print(\"Output :  \",i)"
   ]
  },
  {
   "cell_type": "code",
   "execution_count": 9,
   "id": "59d52b66",
   "metadata": {},
   "outputs": [
    {
     "name": "stdout",
     "output_type": "stream",
     "text": [
      "Output :   12\n",
      "Output :   14\n",
      "Output :   3\n"
     ]
    }
   ],
   "source": [
    "list = [12,14,-95,3]\n",
    "for i in list :\n",
    "    if (i>0):\n",
    "        print(\"Output :  \",i)"
   ]
  },
  {
   "cell_type": "code",
   "execution_count": null,
   "id": "94655f1c",
   "metadata": {},
   "outputs": [],
   "source": []
  }
 ],
 "metadata": {
  "kernelspec": {
   "display_name": "Python 3",
   "language": "python",
   "name": "python3"
  },
  "language_info": {
   "codemirror_mode": {
    "name": "ipython",
    "version": 3
   },
   "file_extension": ".py",
   "mimetype": "text/x-python",
   "name": "python",
   "nbconvert_exporter": "python",
   "pygments_lexer": "ipython3",
   "version": "3.8.8"
  }
 },
 "nbformat": 4,
 "nbformat_minor": 5
}
