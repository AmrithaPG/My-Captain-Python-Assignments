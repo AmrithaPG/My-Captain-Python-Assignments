{
 "cells": [
  {
   "cell_type": "raw",
   "id": "e29f0e75",
   "metadata": {},
   "source": [
    "Task 1 "
   ]
  },
  {
   "cell_type": "code",
   "execution_count": 2,
   "id": "de4af19d",
   "metadata": {},
   "outputs": [
    {
     "name": "stdout",
     "output_type": "stream",
     "text": [
      "The radius of a circle:1.1\n",
      "The area of the circle with radius is: 3.801327111340001\n"
     ]
    }
   ],
   "source": [
    "pi=3.141592654\n",
    "r=float(input(\"The radius of a circle:\"))\n",
    "area=pi*r**2\n",
    "print(\"The area of the circle with radius is:\" ,area)"
   ]
  },
  {
   "cell_type": "raw",
   "id": "f5100b29",
   "metadata": {},
   "source": [
    "Task 2"
   ]
  },
  {
   "cell_type": "code",
   "execution_count": 8,
   "id": "650f219d",
   "metadata": {},
   "outputs": [
    {
     "name": "stdout",
     "output_type": "stream",
     "text": [
      "Filename: abc.py\n",
      "The extension of the file is : py\n"
     ]
    }
   ],
   "source": [
    "f=(input(\"Filename: \"))\n",
    "f_n = f.split (\".\")\n",
    "print(\"The extension of the file is : \" + f_n[-1])"
   ]
  },
  {
   "cell_type": "code",
   "execution_count": null,
   "id": "b3412601",
   "metadata": {},
   "outputs": [],
   "source": []
  }
 ],
 "metadata": {
  "kernelspec": {
   "display_name": "Python 3",
   "language": "python",
   "name": "python3"
  },
  "language_info": {
   "codemirror_mode": {
    "name": "ipython",
    "version": 3
   },
   "file_extension": ".py",
   "mimetype": "text/x-python",
   "name": "python",
   "nbconvert_exporter": "python",
   "pygments_lexer": "ipython3",
   "version": "3.8.8"
  }
 },
 "nbformat": 4,
 "nbformat_minor": 5
}
